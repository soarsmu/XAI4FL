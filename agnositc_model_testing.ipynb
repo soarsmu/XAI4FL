{
  "nbformat": 4,
  "nbformat_minor": 0,
  "metadata": {
    "colab": {
      "name": "agnositc-model-testing.ipynb",
      "provenance": [],
      "toc_visible": true
    },
    "kernelspec": {
      "name": "python3",
      "display_name": "Python 3"
    },
    "language_info": {
      "name": "python"
    }
  },
  "cells": [
    {
      "cell_type": "code",
      "metadata": {
        "id": "hxi5rBwJfTYb"
      },
      "source": [
        "from sklearn.model_selection import train_test_split\n",
        "from sklearn.ensemble import RandomForestClassifier\n",
        "from google.colab import files\n",
        "import pandas as pd\n",
        "import json\n",
        "import re\n",
        "import ast"
      ],
      "execution_count": null,
      "outputs": []
    },
    {
      "cell_type": "code",
      "metadata": {
        "id": "L8MkXn0EfaNG"
      },
      "source": [
        "def process_spectra(file_obj, file_name):\n",
        "    file_string = str(file_obj[file_name])\n",
        "\n",
        "    return file_string.split(\"\\\\n\")"
      ],
      "execution_count": null,
      "outputs": []
    },
    {
      "cell_type": "code",
      "metadata": {
        "id": "ubzqOz-0fbn_"
      },
      "source": [
        "def process_matrix(file_obj, file_name):\n",
        "    file_string = str(file_obj[file_name])\n",
        "\n",
        "    result = file_string.split(\"\\\\n\")\n",
        "    result[0] = result[0].replace(\"b'\", \"\")\n",
        "\n",
        "    for i in range(len(result)):\n",
        "        result[i] = result[i].split(\" \")\n",
        "        result[i] = [int(x) if x.isdigit() else x for x in result[i]]\n",
        "        lastel = result[i][-1]\n",
        "        if lastel == \"+\":\n",
        "            result[i][-1] = \"PASS\"\n",
        "        elif lastel == \"-\":\n",
        "            result[i][-1] = \"FAIL\"\n",
        "    \n",
        "    return result"
      ],
      "execution_count": null,
      "outputs": []
    },
    {
      "cell_type": "code",
      "metadata": {
        "id": "Y3aERsAbfgnB"
      },
      "source": [
        "def make_line_in_txt_shap(shap_value_exp_obj_instance, instance_name):\n",
        "    feature_indexes = []\n",
        "    new_list = []\n",
        "    for i in range(len(df.iloc[instance_name])):\n",
        "        if df.iloc[instance_name][i] == 1:\n",
        "            feature_indexes.append(i)\n",
        "    for i in feature_indexes:\n",
        "        new_list.append(\";\".join([list(x.columns)[i], str(shap_value_exp_obj_instance[i].values)]))\n",
        "    return new_list    "
      ],
      "execution_count": null,
      "outputs": []
    },
    {
      "cell_type": "code",
      "metadata": {
        "id": "GA4URvzffizg"
      },
      "source": [
        "spectra_file = files.upload()"
      ],
      "execution_count": null,
      "outputs": []
    },
    {
      "cell_type": "code",
      "metadata": {
        "id": "yFmPT-L0fpAo"
      },
      "source": [
        "spectra_list = process_spectra(spectra_file, list(spectra_file.keys())[0])\n",
        "spectra_list[-1] = \"Pass/Fail\"\n",
        "spectra_list[0] = spectra_list[0].replace(\"b'\", \"\")"
      ],
      "execution_count": null,
      "outputs": []
    },
    {
      "cell_type": "code",
      "metadata": {
        "id": "OnJpc4KofsXj"
      },
      "source": [
        "matrix_list = process_matrix(matrix_file, list(matrix_file.keys())[0])"
      ],
      "execution_count": null,
      "outputs": []
    },
    {
      "cell_type": "code",
      "metadata": {
        "id": "YTdYow-eft4T"
      },
      "source": [
        "matrix_list.pop()"
      ],
      "execution_count": null,
      "outputs": []
    },
    {
      "cell_type": "code",
      "metadata": {
        "id": "bdw_5R9ffwa6"
      },
      "source": [
        "df = pd.DataFrame(data=matrix_list, columns=spectra_list)"
      ],
      "execution_count": null,
      "outputs": []
    },
    {
      "cell_type": "code",
      "metadata": {
        "id": "rfuPzV42f1El"
      },
      "source": [
        "x = df[spectra_list[:len(spectra_list)-1]]\n",
        "y = df[\"Pass/Fail\"]"
      ],
      "execution_count": null,
      "outputs": []
    },
    {
      "cell_type": "code",
      "metadata": {
        "id": "XlprhIB7f2R-"
      },
      "source": [
        "fails = []\n",
        "passes = []\n",
        "i = 0\n",
        "for result in y:\n",
        "    if result == \"FAIL\":\n",
        "        fails.append(i)\n",
        "    else:\n",
        "        passes.append(i)\n",
        "    i += 1 "
      ],
      "execution_count": null,
      "outputs": []
    },
    {
      "cell_type": "code",
      "metadata": {
        "id": "KDmAB3dYf5WI"
      },
      "source": [
        "if len(fails) == 1:\n",
        "    df = df.append(df.iloc[fails[0]])\n",
        "    x = df[spectra_list[:len(spectra_list)-1]]\n",
        "    y = df[\"Pass/Fail\"]"
      ],
      "execution_count": null,
      "outputs": []
    },
    {
      "cell_type": "code",
      "metadata": {
        "id": "iszfYoMIgDwh"
      },
      "source": [
        "x_train, x_test, y_train, y_test = train_test_split(x, y, test_size=0.2, stratify=y, random_state=1)"
      ],
      "execution_count": null,
      "outputs": []
    },
    {
      "cell_type": "code",
      "metadata": {
        "id": "QTrrV5PngN_y"
      },
      "source": [
        "model = RandomForestClassifier(n_estimators=100, bootstrap=True, max_features='sqrt', random_state=1)"
      ],
      "execution_count": null,
      "outputs": []
    },
    {
      "cell_type": "code",
      "metadata": {
        "id": "vDfWUXscgPT5"
      },
      "source": [
        "model.fit(x_train, y_train)"
      ],
      "execution_count": null,
      "outputs": []
    },
    {
      "cell_type": "code",
      "metadata": {
        "id": "_rye2oCAgTwq"
      },
      "source": [
        "shap_to_txt = {}\n",
        "\n",
        "shap_values = shap.TreeExplainer(model).shap_values(x)\n",
        "\n",
        "for i in fails:\n",
        "    shap_value_exp_obj = shap.Explanation(shap_values[0][i], feature_names=list(x.columns))\n",
        "    shap_to_txt[x.iloc[i].name] = []\n",
        "    shap_to_txt[x.iloc[i].name] += make_line_in_txt_shap(list(shap_value_exp_obj), i)"
      ],
      "execution_count": null,
      "outputs": []
    },
    {
      "cell_type": "code",
      "metadata": {
        "id": "GTKtXTtigZJU"
      },
      "source": [
        "shap_lines_output_val = {}\n",
        "\n",
        "for i in shap_to_txt:\n",
        "    for j in shap_to_txt[i]:\n",
        "        feature_and_value = j.split(\";\")\n",
        "        feature = feature_and_value[0]\n",
        "        value =  float(feature_and_value[1])\n",
        "        if feature not in shap_lines_output_val:\n",
        "            shap_lines_output_val[feature] = []\n",
        "        shap_lines_output_val[feature].append(value)"
      ],
      "execution_count": null,
      "outputs": []
    },
    {
      "cell_type": "code",
      "metadata": {
        "id": "aOkGAc1gga7t"
      },
      "source": [
        "shap_means = {}\n",
        "shap_max = {}\n",
        "shap_min = {}\n",
        "\n",
        "for i in shap_lines_output_val:\n",
        "    if i not in shap_means:\n",
        "        shap_means[i] = []\n",
        "    if i not in shap_min:\n",
        "        shap_min[i] = shap_lines_output_val[i][0]\n",
        "    if i not in shap_max:\n",
        "        shap_max[i] = shap_lines_output_val[i][0]\n",
        "    for j in shap_lines_output_val[i]:\n",
        "        shap_means[i].append(j)\n",
        "        if abs(shap_max[i]) < abs(j):\n",
        "            shap_max[i] = j\n",
        "        if abs(shap_min[i]) > abs(j):\n",
        "            shap_min[i] = j\n",
        "\n",
        "for i in shap_means:\n",
        "    shap_means[i] = sum(shap_means[i]) / len(shap_means[i])"
      ],
      "execution_count": null,
      "outputs": []
    },
    {
      "cell_type": "code",
      "metadata": {
        "id": "lSS9MoI7gdEg"
      },
      "source": [
        "with open(\"Lang-37_shap_results.txt\", \"w\") as file:\n",
        "    for i in shap_to_txt:\n",
        "        file.write(str(i) + \"\\n\")\n",
        "        for j in range(len(shap_to_txt[i])):\n",
        "            file.write(shap_to_txt[i][j] + \"\\n\")"
      ],
      "execution_count": null,
      "outputs": []
    },
    {
      "cell_type": "code",
      "metadata": {
        "id": "V4YYG3Sagf1c"
      },
      "source": [
        "write_output_file('Lang-37_shap_mean.txt', shap_means, is_reverse=True)\n",
        "write_output_file('Lang-37_shap_min.txt', shap_min, is_reverse=True)\n",
        "write_output_file('Lang-37_shap_max.txt', shap_max, is_reverse=True)"
      ],
      "execution_count": null,
      "outputs": []
    }
  ]
}